{
 "cells": [
  {
   "cell_type": "markdown",
   "source": [
    "# Search Algorithms"
   ],
   "metadata": {}
  },
  {
   "cell_type": "code",
   "execution_count": 3,
   "source": [
    "'''\n",
    "Linear Search\n",
    "O(n)\n",
    "'''\n",
    "def linear_search(list_, element):\n",
    "    for index in range(len(list_)):\n",
    "        if element == list_[index]:\n",
    "            return index\n",
    "\n",
    "my_list = [1, 2, 3, 4, 5]\n",
    "linear_search(my_list, 3)"
   ],
   "outputs": [
    {
     "output_type": "execute_result",
     "data": {
      "text/plain": [
       "2"
      ]
     },
     "metadata": {},
     "execution_count": 3
    }
   ],
   "metadata": {}
  },
  {
   "cell_type": "code",
   "execution_count": 5,
   "source": [
    "'''\n",
    "Binary Search\n",
    "O(log n)\n",
    "'''\n",
    "def binary_search(list_, element, min=0, max=None):\n",
    "    if max is None:\n",
    "        max = len(list_)\n",
    "    \n",
    "    if min > max:\n",
    "        return False\n",
    "    else:\n",
    "        middle = (min + max) // 2\n",
    "\n",
    "    if list_[middle] == element:\n",
    "        return middle\n",
    "    elif list_[middle] < element:\n",
    "        return binary_search(list_, element, middle + 1, max)\n",
    "    else:\n",
    "        return binary_search(list_, element, min, middle - 1)\n",
    "\n",
    "my_list = [1, 2, 3, 4, 5]\n",
    "binary_search(my_list, 2)"
   ],
   "outputs": [
    {
     "output_type": "execute_result",
     "data": {
      "text/plain": [
       "1"
      ]
     },
     "metadata": {},
     "execution_count": 5
    }
   ],
   "metadata": {}
  }
 ],
 "metadata": {
  "orig_nbformat": 4,
  "language_info": {
   "name": "python",
   "version": "3.8.10",
   "mimetype": "text/x-python",
   "codemirror_mode": {
    "name": "ipython",
    "version": 3
   },
   "pygments_lexer": "ipython3",
   "nbconvert_exporter": "python",
   "file_extension": ".py"
  },
  "kernelspec": {
   "name": "python3",
   "display_name": "Python 3.8.10 64-bit ('env': venv)"
  },
  "interpreter": {
   "hash": "eee4ed1fcdf74e4b9089e880e688f2a6164def31e33468aae0f0805303ef9203"
  }
 },
 "nbformat": 4,
 "nbformat_minor": 2
}