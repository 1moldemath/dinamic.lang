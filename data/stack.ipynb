{
 "cells": [
  {
   "cell_type": "markdown",
   "source": [
    "# Stack as list\n",
    "## Principle -> LIFO (Last in, First out)"
   ],
   "metadata": {}
  }
 ],
 "metadata": {
  "orig_nbformat": 4,
  "language_info": {
   "name": "python"
  }
 },
 "nbformat": 4,
 "nbformat_minor": 2
}