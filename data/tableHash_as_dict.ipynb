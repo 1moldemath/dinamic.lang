{
 "cells": [
  {
   "cell_type": "markdown",
   "source": [
    "# Table Hash as dict"
   ],
   "metadata": {}
  },
  {
   "cell_type": "code",
   "execution_count": 1,
   "source": [
    "'''\n",
    "Bests operations to GET, SET, DELETE and Constains \"X\" element\n",
    "For each VALUE, we have one KEY\n",
    "KEY : VALUE\n",
    "'''\n",
    "hashTable = {i:None for i in range(10)}\n",
    "hashTable"
   ],
   "outputs": [
    {
     "output_type": "execute_result",
     "data": {
      "text/plain": [
       "{0: None,\n",
       " 1: None,\n",
       " 2: None,\n",
       " 3: None,\n",
       " 4: None,\n",
       " 5: None,\n",
       " 6: None,\n",
       " 7: None,\n",
       " 8: None,\n",
       " 9: None}"
      ]
     },
     "metadata": {},
     "execution_count": 1
    }
   ],
   "metadata": {}
  },
  {
   "cell_type": "code",
   "execution_count": 4,
   "source": [
    "# set\n",
    "hashTable[1] = \"Hello\"\n",
    "hashTable[2] = \"World\"\n",
    "hashTable[1] = \"Matheus\" # reassign the value\n",
    "hashTable"
   ],
   "outputs": [
    {
     "output_type": "execute_result",
     "data": {
      "text/plain": [
       "{0: None,\n",
       " 1: 'Matheus',\n",
       " 2: 'World',\n",
       " 3: None,\n",
       " 4: None,\n",
       " 5: None,\n",
       " 6: None,\n",
       " 7: None,\n",
       " 8: None,\n",
       " 9: None}"
      ]
     },
     "metadata": {},
     "execution_count": 4
    }
   ],
   "metadata": {}
  },
  {
   "cell_type": "code",
   "execution_count": 5,
   "source": [
    "# get\n",
    "hashTable[1]"
   ],
   "outputs": [
    {
     "output_type": "execute_result",
     "data": {
      "text/plain": [
       "'Matheus'"
      ]
     },
     "metadata": {},
     "execution_count": 5
    }
   ],
   "metadata": {}
  },
  {
   "cell_type": "code",
   "execution_count": 9,
   "source": [
    "# contains\n",
    "print('Matheus' in hashTable) # Not use value\n",
    "1 in hashTable # Use key"
   ],
   "outputs": [
    {
     "output_type": "stream",
     "name": "stdout",
     "text": [
      "False\n"
     ]
    },
    {
     "output_type": "execute_result",
     "data": {
      "text/plain": [
       "True"
      ]
     },
     "metadata": {},
     "execution_count": 9
    }
   ],
   "metadata": {}
  },
  {
   "cell_type": "code",
   "execution_count": 6,
   "source": [
    "# del\n",
    "del hashTable[2] # remove key and value\n",
    "hashTable"
   ],
   "outputs": [
    {
     "output_type": "execute_result",
     "data": {
      "text/plain": [
       "{0: None,\n",
       " 1: 'Matheus',\n",
       " 3: None,\n",
       " 4: None,\n",
       " 5: None,\n",
       " 6: None,\n",
       " 7: None,\n",
       " 8: None,\n",
       " 9: None}"
      ]
     },
     "metadata": {},
     "execution_count": 6
    }
   ],
   "metadata": {}
  }
 ],
 "metadata": {
  "orig_nbformat": 4,
  "language_info": {
   "name": "python",
   "version": "3.8.10",
   "mimetype": "text/x-python",
   "codemirror_mode": {
    "name": "ipython",
    "version": 3
   },
   "pygments_lexer": "ipython3",
   "nbconvert_exporter": "python",
   "file_extension": ".py"
  },
  "kernelspec": {
   "name": "python3",
   "display_name": "Python 3.8.10 64-bit ('env': venv)"
  },
  "interpreter": {
   "hash": "eee4ed1fcdf74e4b9089e880e688f2a6164def31e33468aae0f0805303ef9203"
  }
 },
 "nbformat": 4,
 "nbformat_minor": 2
}