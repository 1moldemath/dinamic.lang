{
 "cells": [
  {
   "cell_type": "code",
   "execution_count": null,
   "source": [
    "'''\n",
    "Exercices about Python on Plataform Hacker Rank\n",
    "'''"
   ],
   "outputs": [],
   "metadata": {}
  },
  {
   "cell_type": "code",
   "execution_count": 1,
   "source": [
    "# Python IF-ELSE\n",
    "n = int(input().strip())\n",
    "odd = n % 2 != 0\n",
    "\n",
    "if odd:\n",
    "    print(\"Weird\")\n",
    "elif not odd and 2 <= n <= 5:\n",
    "    print(\"Not Weird\")\n",
    "elif not odd and 20 >= n >= 6:\n",
    "    print(\"Weird\")\n",
    "elif not odd and n > 20:\n",
    "    print(\"Not Weird\")"
   ],
   "outputs": [
    {
     "output_type": "stream",
     "name": "stdout",
     "text": [
      "Weird\n"
     ]
    }
   ],
   "metadata": {}
  },
  {
   "cell_type": "code",
   "execution_count": 2,
   "source": [
    "# loops\n",
    "n = int(input())\n",
    "lista = [print(i ** 2) for i in range(n)]"
   ],
   "outputs": [
    {
     "output_type": "stream",
     "name": "stdout",
     "text": [
      "0\n",
      "1\n",
      "4\n",
      "9\n",
      "16\n"
     ]
    }
   ],
   "metadata": {}
  },
  {
   "cell_type": "code",
   "execution_count": 3,
   "source": [
    "# leap years\n",
    "def is_leap(year):\n",
    "    leap = False\n",
    "    \n",
    "    if year % 4 == 0:\n",
    "        leap = True\n",
    "        if year % 100 == 0 and not year % 400 == 0:\n",
    "            leap = False\n",
    "            \n",
    "    return leap\n",
    "\n",
    "is_leap(1990)"
   ],
   "outputs": [
    {
     "output_type": "execute_result",
     "data": {
      "text/plain": [
       "False"
      ]
     },
     "metadata": {},
     "execution_count": 3
    }
   ],
   "metadata": {}
  },
  {
   "cell_type": "code",
   "execution_count": 4,
   "source": [
    "# Print\n",
    "n = int(input())\n",
    "lista = [f'{i}' for i in range(n + 1) if i != 0]\n",
    "print(''.join(lista))"
   ],
   "outputs": [
    {
     "output_type": "stream",
     "name": "stdout",
     "text": [
      "12345\n"
     ]
    }
   ],
   "metadata": {}
  },
  {
   "cell_type": "code",
   "execution_count": 6,
   "source": [
    "# list comprehension\n",
    "x = int(input())\n",
    "y = int(input())\n",
    "z = int(input())\n",
    "n = int(input())\n",
    "# return 3 sides of a cube\n",
    "# the sum of indexs is different to n\n",
    "lista = [[i, j, k] for i in range(x + 1) for j in range(y + 1) for k in range(z + 1) if sum([i, j, k]) != n]\n",
    "print(lista)"
   ],
   "outputs": [
    {
     "output_type": "stream",
     "name": "stdout",
     "text": [
      "[[0, 0, 0], [0, 0, 1], [0, 1, 0], [1, 0, 0], [1, 1, 1]]\n"
     ]
    }
   ],
   "metadata": {}
  }
 ],
 "metadata": {
  "orig_nbformat": 4,
  "language_info": {
   "name": "python",
   "version": "3.8.10",
   "mimetype": "text/x-python",
   "codemirror_mode": {
    "name": "ipython",
    "version": 3
   },
   "pygments_lexer": "ipython3",
   "nbconvert_exporter": "python",
   "file_extension": ".py"
  },
  "kernelspec": {
   "name": "python3",
   "display_name": "Python 3.8.10 64-bit ('env': venv)"
  },
  "interpreter": {
   "hash": "eee4ed1fcdf74e4b9089e880e688f2a6164def31e33468aae0f0805303ef9203"
  }
 },
 "nbformat": 4,
 "nbformat_minor": 2
}