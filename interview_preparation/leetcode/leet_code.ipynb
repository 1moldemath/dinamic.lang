{
 "cells": [
  {
   "cell_type": "code",
   "execution_count": null,
   "source": [
    "# 35. Search Insert Position\n",
    "\n",
    "def searchInsert(self, nums: list[int], target: int, minimo=0, maximo=None) -> int: # log N solution\n",
    "    if maximo == None:\n",
    "        maximo = len(nums) - 1\n",
    "\n",
    "    if minimo > maximo:\n",
    "        if target < nums[0]:\n",
    "            return 0\n",
    "        return minimo\n",
    "    else:\n",
    "        meio = (minimo + maximo) // 2\n",
    "\n",
    "    if nums[meio] < target:\n",
    "        return self.searchInsert(nums, target, meio + 1, maximo)\n",
    "    elif nums[meio] > target:\n",
    "        return self.searchInsert(nums, target, minimo, meio - 1)\n",
    "    else:\n",
    "        return meio"
   ],
   "outputs": [],
   "metadata": {}
  },
  {
   "cell_type": "code",
   "execution_count": null,
   "source": [
    "# 26. Remove Duplicates from Sorted Array\n",
    "def removeDuplicates(self, nums: list[int]) -> int: # BETTER SOLUTION\n",
    "    k = len(set(nums))\n",
    "    nums[0:k+1] = [i for i in sorted(set(nums))]\n",
    "    return k"
   ],
   "outputs": [],
   "metadata": {}
  },
  {
   "cell_type": "code",
   "execution_count": null,
   "source": [
    "# 1. Two Sum\n",
    "\n",
    "def twoSum(self, nums: list[int], target: int) -> list[int]: # BAD SOLUTION\n",
    "# O(n^2)\n",
    "    for i in range(len(nums)):\n",
    "        for j in range(len(nums) - 1):\n",
    "            if nums[i] + nums[j + 1] == target and i != j + 1:\n",
    "                return [i, j + 1]\n",
    "\n",
    "\n",
    "def twoSum2(self, nums, target): # BETTER SOLUTION\n",
    "    h = {}\n",
    "    for i, num in enumerate(nums):\n",
    "        n = target - num # complement\n",
    "        if n not in h:\n",
    "            h[num] = i\n",
    "        else:\n",
    "            return [h[n], i]"
   ],
   "outputs": [],
   "metadata": {}
  },
  {
   "cell_type": "code",
   "execution_count": null,
   "source": [
    "# 27. Remove Element\n",
    "def removeElement(self, nums: list[int], val: int) -> int: # BETTER SOLUTION\n",
    "    nums[0:] = [i for i in nums if i != val]\n",
    "    size = len(nums)\n",
    "    return size"
   ],
   "outputs": [],
   "metadata": {}
  },
  {
   "cell_type": "code",
   "execution_count": null,
   "source": [
    "# 66. Plus One\n"
   ],
   "outputs": [],
   "metadata": {}
  }
 ],
 "metadata": {
  "orig_nbformat": 4,
  "language_info": {
   "name": "python"
  }
 },
 "nbformat": 4,
 "nbformat_minor": 2
}