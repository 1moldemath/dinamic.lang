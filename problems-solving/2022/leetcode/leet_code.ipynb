{
 "cells": [
  {
   "cell_type": "code",
   "execution_count": null,
   "source": [
    "# 35. Search Insert Position\n",
    "\n",
    "def searchInsert(self, nums: list[int], target: int, minimo=0, maximo=None) -> int: # log N solution\n",
    "    if maximo == None:\n",
    "        maximo = len(nums) - 1\n",
    "\n",
    "    if minimo > maximo:\n",
    "        if target < nums[0]:\n",
    "            return 0\n",
    "        return minimo\n",
    "    else:\n",
    "        meio = (minimo + maximo) // 2\n",
    "\n",
    "    if nums[meio] < target:\n",
    "        return self.searchInsert(nums, target, meio + 1, maximo)\n",
    "    elif nums[meio] > target:\n",
    "        return self.searchInsert(nums, target, minimo, meio - 1)\n",
    "    else:\n",
    "        return meio"
   ],
   "outputs": [],
   "metadata": {}
  },
  {
   "cell_type": "code",
   "execution_count": null,
   "source": [
    "# 26. Remove Duplicates from Sorted Array\n",
    "def removeDuplicates(self, nums: list[int]) -> int: # BETTER SOLUTION\n",
    "    k = len(set(nums))\n",
    "    nums[0:k+1] = [i for i in sorted(set(nums))]\n",
    "    return k"
   ],
   "outputs": [],
   "metadata": {}
  },
  {
   "cell_type": "code",
   "execution_count": null,
   "source": [
    "# 1. Two Sum\n",
    "\n",
    "def twoSum(self, nums: list[int], target: int) -> list[int]: # BAD SOLUTION\n",
    "# O(n^2)\n",
    "    for i in range(len(nums)):\n",
    "        for j in range(len(nums) - 1):\n",
    "            if nums[i] + nums[j + 1] == target and i != j + 1:\n",
    "                return [i, j + 1]\n",
    "\n",
    "\n",
    "def twoSum2(self, nums, target): # BETTER SOLUTION\n",
    "    h = {}\n",
    "    for i, num in enumerate(nums):\n",
    "        n = target - num # complement\n",
    "        if n not in h:\n",
    "            h[num] = i\n",
    "        else:\n",
    "            return [h[n], i]"
   ],
   "outputs": [],
   "metadata": {}
  },
  {
   "cell_type": "code",
   "execution_count": null,
   "source": [
    "# 27. Remove Element\n",
    "def removeElement(self, nums: list[int], val: int) -> int: # BETTER SOLUTION\n",
    "    nums[0:] = [i for i in nums if i != val]\n",
    "    size = len(nums)\n",
    "    return size"
   ],
   "outputs": [],
   "metadata": {}
  },
  {
   "cell_type": "code",
   "execution_count": 48,
   "source": [
    "# 66. Plus One\n",
    "def plusOne(digits):\n",
    "    last = len(digits) - 1\n",
    "\n",
    "    if digits[last] != 9: # se o ultimo for diferente de 9, apenas acrescenta\n",
    "        digits[last] += 1\n",
    "        return digits\n",
    "\n",
    "    for i in range(len(digits) - 1, 0, -1): \n",
    "        if digits[i] == 9 and digits[i - 1] == 9:\n",
    "            # vou trocando todos os 9 para 0, até achar um número diferente de 9\n",
    "            digits[i] = 0\n",
    "\n",
    "        if digits[i] == 9 and digits[i - 1] != 9:\n",
    "            # [1, 2, 9] -> se o atual for 9 e o próximo no loop for diferente de nove, atribui 0 ao atual e incrementa um ao próximo\n",
    "            digits[i] = 0\n",
    "            digits[i - 1] += 1\n",
    "            return digits\n",
    "\n",
    "    # caso saia do loop com todos os 9 trocados para zero, acrescentamos 1 ao inicio do array\n",
    "    if digits[0] == 9:\n",
    "        digits[0] = 0\n",
    "        digits.insert(0, 1)\n",
    "\n",
    "    return digits\n",
    "\n",
    "plusOne([9 ,1 , 9 , 9])"
   ],
   "outputs": [
    {
     "output_type": "execute_result",
     "data": {
      "text/plain": [
       "[9, 2, 0, 0]"
      ]
     },
     "metadata": {},
     "execution_count": 48
    }
   ],
   "metadata": {}
  }
 ],
 "metadata": {
  "orig_nbformat": 4,
  "language_info": {
   "name": "python",
   "version": "3.8.10",
   "mimetype": "text/x-python",
   "codemirror_mode": {
    "name": "ipython",
    "version": 3
   },
   "pygments_lexer": "ipython3",
   "nbconvert_exporter": "python",
   "file_extension": ".py"
  },
  "kernelspec": {
   "name": "python3",
   "display_name": "Python 3.8.10 64-bit ('env': venv)"
  },
  "interpreter": {
   "hash": "eee4ed1fcdf74e4b9089e880e688f2a6164def31e33468aae0f0805303ef9203"
  }
 },
 "nbformat": 4,
 "nbformat_minor": 2
}