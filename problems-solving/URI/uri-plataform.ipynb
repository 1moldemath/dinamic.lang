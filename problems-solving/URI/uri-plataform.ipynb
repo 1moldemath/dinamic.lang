{
 "cells": [
  {
   "cell_type": "code",
   "execution_count": 11,
   "metadata": {},
   "outputs": [
    {
     "name": "stdout",
     "output_type": "stream",
     "text": [
      "A=70685.7750\n"
     ]
    }
   ],
   "source": [
    "raio = 150.00\n",
    "n = 3.14159\n",
    "area = n*raio**2\n",
    "print(f\"A={'%.4f' % area}\")"
   ]
  },
  {
   "cell_type": "code",
   "execution_count": 7,
   "metadata": {},
   "outputs": [
    {
     "name": "stdout",
     "output_type": "stream",
     "text": [
      "MEDIA = 6.43182\n"
     ]
    }
   ],
   "source": [
    "media = ((5.0 * 3.5) + (7.1 * 7.5)) / 11\n",
    "print(f\"MEDIA = {'%.5f' % media}\")"
   ]
  },
  {
   "cell_type": "code",
   "execution_count": 8,
   "metadata": {},
   "outputs": [
    {
     "name": "stdout",
     "output_type": "stream",
     "text": [
      "TOTAL = R$ 684.545\n"
     ]
    }
   ],
   "source": [
    "total_to_receive =  500.00 + (1230.30 * 0.15)\n",
    "print(f\"TOTAL = R$ {total_to_receive}\")"
   ]
  },
  {
   "cell_type": "code",
   "execution_count": 25,
   "metadata": {},
   "outputs": [
    {
     "data": {
      "text/plain": [
       "5.3"
      ]
     },
     "execution_count": 25,
     "metadata": {},
     "output_type": "execute_result"
    }
   ],
   "source": [
    "peca1 = input()\n",
    "peca2 = input()\n",
    "\n",
    "peca_one = peca1.split()\n",
    "peca_two = peca2.split()\n",
    "\n",
    "value_to_pay1 = int(peca_one[1]) * float(peca_one[2])\n",
    "value_to_pay2 = int(peca_two[1]) * float(peca_two[2])\n",
    "\n",
    "total = value_to_pay1 + value_to_pay2\n",
    "print(f\"VALOR A PAGAR: R$ {'%.2f' % total}\")"
   ]
  },
  {
   "cell_type": "code",
   "execution_count": 3,
   "metadata": {},
   "outputs": [
    {
     "name": "stdout",
     "output_type": "stream",
     "text": [
      "217 eh o maior\n"
     ]
    }
   ],
   "source": [
    "a = 217\n",
    "b = 14\n",
    "c = 6\n",
    "\n",
    "maiorAB = (a + b + abs(a - b)) / 2\n",
    "\n",
    "if c > maiorAB:\n",
    "    print(f\"{c} eh o maior\")\n",
    "else:\n",
    "    print(f\"{'%.0f' % maiorAB} eh o maior\")"
   ]
  },
  {
   "cell_type": "code",
   "execution_count": null,
   "metadata": {},
   "outputs": [],
   "source": [
    "# Estiagem\n",
    "\n"
   ]
  }
 ],
 "metadata": {
  "interpreter": {
   "hash": "e7e66ff76f7f8ec1a9a9ff3dd45721590af3774ff21f06c794f81f2355a67acb"
  },
  "kernelspec": {
   "display_name": "Python 3.8.10 64-bit ('env': venv)",
   "name": "python3"
  },
  "language_info": {
   "codemirror_mode": {
    "name": "ipython",
    "version": 3
   },
   "file_extension": ".py",
   "mimetype": "text/x-python",
   "name": "python",
   "nbconvert_exporter": "python",
   "pygments_lexer": "ipython3",
   "version": "3.8.10"
  },
  "orig_nbformat": 4
 },
 "nbformat": 4,
 "nbformat_minor": 2
}
