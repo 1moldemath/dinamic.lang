{
 "cells": [
  {
   "cell_type": "code",
   "execution_count": 10,
   "metadata": {},
   "outputs": [
    {
     "name": "stdout",
     "output_type": "stream",
     "text": [
      "A=70685.7750\n"
     ]
    }
   ],
   "source": [
    "raio = 150.00\n",
    "n = 3.14159\n",
    "\n",
    "area = n*raio**2\n",
    "\n",
    "print(f\"A={'%.4f' % area}\")"
   ]
  }
 ],
 "metadata": {
  "interpreter": {
   "hash": "e7e66ff76f7f8ec1a9a9ff3dd45721590af3774ff21f06c794f81f2355a67acb"
  },
  "kernelspec": {
   "display_name": "Python 3.8.10 64-bit ('env': venv)",
   "name": "python3"
  },
  "language_info": {
   "codemirror_mode": {
    "name": "ipython",
    "version": 3
   },
   "file_extension": ".py",
   "mimetype": "text/x-python",
   "name": "python",
   "nbconvert_exporter": "python",
   "pygments_lexer": "ipython3",
   "version": "3.8.10"
  },
  "orig_nbformat": 4
 },
 "nbformat": 4,
 "nbformat_minor": 2
}
