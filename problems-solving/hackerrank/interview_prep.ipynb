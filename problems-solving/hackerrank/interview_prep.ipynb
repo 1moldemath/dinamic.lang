{
 "cells": [
  {
   "cell_type": "code",
   "execution_count": null,
   "metadata": {},
   "outputs": [],
   "source": [
    "# 001\n",
    "def miniMaxSum(arr):\n",
    "    minSum, maxSum = 1000000000000, 0\n",
    "\n",
    "    for i in range(len(arr)):\n",
    "        copy = arr[:]\n",
    "        del copy[i]\n",
    "        validator = sum(copy)\n",
    "        \n",
    "        if validator < minSum:\n",
    "            minSum = validator\n",
    "            \n",
    "        if validator > maxSum:\n",
    "            maxSum = validator\n",
    "\n",
    "    return minSum, maxSum"
   ]
  },
  {
   "cell_type": "code",
   "execution_count": null,
   "metadata": {},
   "outputs": [],
   "source": [
    "# 002\n",
    "def plusMinus(arr):\n",
    "    map = {\"positives\": 0, \"negatives\": 0, \"zeros\": 0}\n",
    "\n",
    "    for item in arr:\n",
    "        if item < 0:\n",
    "            map[\"negatives\"] += 1\n",
    "        elif item == 0:\n",
    "            map[\"zeros\"] += 1\n",
    "        else:\n",
    "            map[\"positives\"] += 1\n",
    "    \n",
    "    for currency in map.values():\n",
    "        prop = currency / len(arr)\n",
    "        print(\"%.6f\" % prop)"
   ]
  },
  {
   "cell_type": "code",
   "execution_count": 62,
   "metadata": {},
   "outputs": [
    {
     "data": {
      "text/plain": [
       "[2, 1, 0]"
      ]
     },
     "execution_count": 62,
     "metadata": {},
     "output_type": "execute_result"
    }
   ],
   "source": [
    "# 003\n",
    "def matchingStrings(strings, queries): # O(n)\n",
    "    mapping = {}\n",
    "    for i in range(len(strings)):\n",
    "        if strings[i] not in mapping:\n",
    "            mapping[f'{strings[i]}'] = 1\n",
    "        else:\n",
    "            mapping[f'{strings[i]}'] += 1\n",
    "    \n",
    "    controller = []\n",
    "    for j in range(len(queries)):\n",
    "\n",
    "        if queries[j] in mapping:\n",
    "            controller.append(mapping[queries[j]])\n",
    "        else:\n",
    "            controller.append(0)\n",
    "        \n",
    "    return controller\n",
    "\n",
    "matchingStrings(['aba','baba', 'aba', 'xzxb'], ['aba', 'xzxb', 'ab'])"
   ]
  },
  {
   "cell_type": "code",
   "execution_count": 95,
   "metadata": {},
   "outputs": [
    {
     "data": {
      "text/plain": [
       "4"
      ]
     },
     "execution_count": 95,
     "metadata": {},
     "output_type": "execute_result"
    }
   ],
   "source": [
    "# 004\n",
    "def lonelyinteger(a):\n",
    "    map_curr = {}\n",
    "    for i in range(len(a)):\n",
    "        if a[i] not in map_curr:\n",
    "            map_curr[a[i]] = 1\n",
    "        else:\n",
    "            map_curr[a[i]] += 1\n",
    "\n",
    "    for key in map_curr:\n",
    "        if map_curr[key] == 1:\n",
    "            return key\n",
    "\n",
    "lonelyinteger([1, 1, 2, 2, 2, 3, 3, 3, 4, 5, 5, 6, 6])"
   ]
  },
  {
   "cell_type": "code",
   "execution_count": 39,
   "metadata": {},
   "outputs": [],
   "source": [
    "# 006\n",
    "def diagonalDifference(arr):\n",
    "    n = len(arr[0])\n",
    "    first = 0\n",
    "    second = 0\n",
    "    # first diagonal\n",
    "    for i in range(n):\n",
    "        first += arr[i][i]\n",
    "\n",
    "    control = 0\n",
    "    #second diagonal\n",
    "    for j in range(n - 1, -1, -1):\n",
    "        second += arr[j][control]\n",
    "        control += 1\n",
    "\n",
    "    sub = first - second\n",
    "\n",
    "    return abs(sub)"
   ]
  },
  {
   "cell_type": "code",
   "execution_count": 62,
   "metadata": {},
   "outputs": [],
   "source": [
    "def countingSort(arr):\n",
    "    size = len(arr)\n",
    "    result = [0] * 100\n",
    "\n",
    "    for i in range(size):\n",
    "        result[arr[i]] += 1\n",
    "\n",
    "    return result\n",
    "\n",
    "# countingSort([1, 1, 3, 2, 1]) # return [0, 3, 1, 1, 0]"
   ]
  },
  {
   "cell_type": "code",
   "execution_count": 72,
   "metadata": {},
   "outputs": [
    {
     "data": {
      "text/plain": [
       "'pangram'"
      ]
     },
     "execution_count": 72,
     "metadata": {},
     "output_type": "execute_result"
    }
   ],
   "source": [
    "# We promptly judged antique ivory buckles for the next prize\n",
    "\n",
    "def pangrams(s):\n",
    "    range_list = list(s) # interaçoes\n",
    "    str_sample = s.lower() # minusculas para definir cada letra\n",
    "    arr = [0] * 26 # alfabeto\n",
    "\n",
    "    for i in range(len(range_list)):\n",
    "        each_letter = ord(str_sample[i]) - ord('a') # da a posição e cada letra no alfabeto\n",
    "        \n",
    "        if each_letter >= 0:\n",
    "            arr[each_letter] += 1 # se for maior que 0 adicionamos 1 a posicao daquela letra\n",
    "\n",
    "    for j in arr:\n",
    "        if j == 0:\n",
    "            return 'not pangram'\n",
    "    \n",
    "    return 'pangram'\n",
    "\n",
    "pangrams('We promptly judged antique ivory buckles for the next prize')"
   ]
  }
 ],
 "metadata": {
  "interpreter": {
   "hash": "e7e66ff76f7f8ec1a9a9ff3dd45721590af3774ff21f06c794f81f2355a67acb"
  },
  "kernelspec": {
   "display_name": "Python 3.8.10 64-bit ('env': venv)",
   "name": "python3"
  },
  "language_info": {
   "codemirror_mode": {
    "name": "ipython",
    "version": 3
   },
   "file_extension": ".py",
   "mimetype": "text/x-python",
   "name": "python",
   "nbconvert_exporter": "python",
   "pygments_lexer": "ipython3",
   "version": "3.8.10"
  },
  "orig_nbformat": 4
 },
 "nbformat": 4,
 "nbformat_minor": 2
}
