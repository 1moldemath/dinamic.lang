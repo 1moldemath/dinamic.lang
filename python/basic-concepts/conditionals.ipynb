{
 "cells": [
  {
   "cell_type": "markdown",
   "source": [
    "## Conditionals"
   ],
   "metadata": {}
  },
  {
   "cell_type": "code",
   "execution_count": 1,
   "source": [
    "name = 'Math'\n",
    "# indentation as hierarchy\n",
    "if True: # verify boolean\n",
    "    print(name)\n",
    "else:\n",
    "    print('if is not true')"
   ],
   "outputs": [
    {
     "output_type": "stream",
     "name": "stdout",
     "text": [
      "Math\n"
     ]
    }
   ],
   "metadata": {}
  },
  {
   "cell_type": "code",
   "execution_count": 2,
   "source": [
    "if False:\n",
    "    print(name)\n",
    "elif name == 'Matheus': # verify boolean nested\n",
    "    print(f'{name} is Matheus')\n",
    "else:\n",
    "    print('if and elif is not true')"
   ],
   "outputs": [
    {
     "output_type": "stream",
     "name": "stdout",
     "text": [
      "if and elif is not true\n"
     ]
    }
   ],
   "metadata": {}
  },
  {
   "cell_type": "markdown",
   "source": [
    "## Logics Operators"
   ],
   "metadata": {}
  },
  {
   "cell_type": "code",
   "execution_count": 3,
   "source": [
    "age = 22\n",
    "if name and age: # both are true, return true (age value)\n",
    "    print(name, age, 'years')\n",
    "\n",
    "if False or age: # if any is true, return true\n",
    "    print(age)\n",
    "\n",
    "if not False: # swap the boolean of object\n",
    "    print('return true')"
   ],
   "outputs": [
    {
     "output_type": "stream",
     "name": "stdout",
     "text": [
      "Math 22 years\n",
      "22\n",
      "return true\n"
     ]
    }
   ],
   "metadata": {}
  }
 ],
 "metadata": {
  "orig_nbformat": 4,
  "language_info": {
   "name": "python",
   "version": "3.8.10",
   "mimetype": "text/x-python",
   "codemirror_mode": {
    "name": "ipython",
    "version": 3
   },
   "pygments_lexer": "ipython3",
   "nbconvert_exporter": "python",
   "file_extension": ".py"
  },
  "kernelspec": {
   "name": "python3",
   "display_name": "Python 3.8.10 64-bit ('env': venv)"
  },
  "interpreter": {
   "hash": "eee4ed1fcdf74e4b9089e880e688f2a6164def31e33468aae0f0805303ef9203"
  }
 },
 "nbformat": 4,
 "nbformat_minor": 2
}