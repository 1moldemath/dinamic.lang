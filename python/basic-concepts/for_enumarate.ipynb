{
 "cells": [
  {
   "cell_type": "markdown",
   "source": [
    "## Foor loop with de the function Enumerate()\n",
    "\n",
    "### numbers each elements of a list"
   ],
   "metadata": {}
  },
  {
   "cell_type": "code",
   "execution_count": 20,
   "source": [
    "# enumerate(iterable)\n",
    "# return in two variables, the index and the value as tuples\n",
    "the_list = ['Caio', 'Math', 'Joao', 'Carla', 'Zeus']\n",
    "\n",
    "for index, element in enumerate(the_list):\n",
    "    print('Index:', index, 'Element:', element)"
   ],
   "outputs": [
    {
     "output_type": "stream",
     "name": "stdout",
     "text": [
      "Index: 0 Element: Caio\n",
      "Index: 1 Element: Math\n",
      "Index: 2 Element: Joao\n",
      "Index: 3 Element: Carla\n",
      "Index: 4 Element: Zeus\n"
     ]
    }
   ],
   "metadata": {}
  },
  {
   "cell_type": "code",
   "execution_count": 21,
   "source": [
    "for tuple_ in enumerate(the_list): # return tuples with index and values\n",
    "    print(tuple_) # we can unpack the value with 2 variables, example: \"index, value = tuple_\""
   ],
   "outputs": [
    {
     "output_type": "stream",
     "name": "stdout",
     "text": [
      "(0, 'Caio')\n",
      "(1, 'Math')\n",
      "(2, 'Joao')\n",
      "(3, 'Carla')\n",
      "(4, 'Zeus')\n"
     ]
    }
   ],
   "metadata": {}
  }
 ],
 "metadata": {
  "orig_nbformat": 4,
  "language_info": {
   "name": "python",
   "version": "3.8.10",
   "mimetype": "text/x-python",
   "codemirror_mode": {
    "name": "ipython",
    "version": 3
   },
   "pygments_lexer": "ipython3",
   "nbconvert_exporter": "python",
   "file_extension": ".py"
  },
  "kernelspec": {
   "name": "python3",
   "display_name": "Python 3.8.10 64-bit ('env': venv)"
  },
  "interpreter": {
   "hash": "eee4ed1fcdf74e4b9089e880e688f2a6164def31e33468aae0f0805303ef9203"
  }
 },
 "nbformat": 4,
 "nbformat_minor": 2
}