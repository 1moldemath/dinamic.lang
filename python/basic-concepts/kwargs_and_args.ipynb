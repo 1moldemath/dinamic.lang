{
 "cells": [
  {
   "cell_type": "markdown",
   "metadata": {},
   "source": [
    "# **kwargs and *args, function arguments"
   ]
  },
  {
   "cell_type": "code",
   "execution_count": 6,
   "metadata": {},
   "outputs": [
    {
     "name": "stdout",
     "output_type": "stream",
     "text": [
      "Arguments:  ()\n",
      "0\n",
      "Arguments:  (2,)\n",
      "2\n",
      "Arguments:  (2, 3)\n",
      "5\n",
      "Arguments:  (5, 10, 15)\n",
      "30\n"
     ]
    }
   ],
   "source": [
    "'''\n",
    "input any arguments to functions\n",
    "'''\n",
    "\n",
    "# *args -> return a tuple with all arguments\n",
    "\n",
    "def sum_(*args):\n",
    "    print('Arguments: ',args)\n",
    "    print(sum(args))\n",
    "    \n",
    "\n",
    "sum_()\n",
    "sum_(2)\n",
    "sum_(2, 3)\n",
    "sum_(5, 10, 15)"
   ]
  },
  {
   "cell_type": "code",
   "execution_count": 10,
   "metadata": {},
   "outputs": [
    {
     "name": "stdout",
     "output_type": "stream",
     "text": [
      "My favorite movies: ('Harry Potter', \"Grow's UP\", 'Immortals')\n",
      "Harry Potter\n",
      "Grow's UP\n",
      "Immortals\n"
     ]
    }
   ],
   "source": [
    "# args is conventional, we can use any words\n",
    "def favorites(*filmes):\n",
    "    print(\"My favorite movies:\", filmes)\n",
    "\n",
    "    for i in filmes:\n",
    "        print(i)\n",
    "\n",
    "favorites(\"Harry Potter\", \"Grow's UP\", \"Immortals\")"
   ]
  },
  {
   "cell_type": "code",
   "execution_count": 18,
   "metadata": {},
   "outputs": [
    {
     "name": "stdout",
     "output_type": "stream",
     "text": [
      "('pessoa', 'Matheus') ('filme', 'Harry Potter')\n"
     ]
    }
   ],
   "source": [
    "'''\n",
    "We use pars KEY:VALUE as argument\n",
    "'''\n",
    "# **kwargs -> arguments return in a dictionary\n",
    "\n",
    "def favorites_films(**kwargs):\n",
    "    key, value = kwargs.items() # items is a dictionary method\n",
    "    print(key, value)\n",
    "\n",
    "favorites_films(pessoa=\"Matheus\", filme=\"Harry Potter\")"
   ]
  },
  {
   "cell_type": "code",
   "execution_count": null,
   "metadata": {},
   "outputs": [],
   "source": [
    "# * -> without keys, return tuples\n",
    "# ** -> with keys, return dictionarys"
   ]
  }
 ],
 "metadata": {
  "interpreter": {
   "hash": "eee4ed1fcdf74e4b9089e880e688f2a6164def31e33468aae0f0805303ef9203"
  },
  "kernelspec": {
   "display_name": "Python 3.8.10 64-bit ('env': venv)",
   "name": "python3"
  },
  "language_info": {
   "codemirror_mode": {
    "name": "ipython",
    "version": 3
   },
   "file_extension": ".py",
   "mimetype": "text/x-python",
   "name": "python",
   "nbconvert_exporter": "python",
   "pygments_lexer": "ipython3",
   "version": "3.10.12"
  },
  "orig_nbformat": 4
 },
 "nbformat": 4,
 "nbformat_minor": 2
}
