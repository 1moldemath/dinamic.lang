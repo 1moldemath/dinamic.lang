{
 "cells": [
  {
   "cell_type": "markdown",
   "source": [
    "## List Comprehension"
   ],
   "metadata": {}
  },
  {
   "cell_type": "code",
   "execution_count": 5,
   "source": [
    "# Create list with expression and interation\n",
    "'''\n",
    "syntax -> [<expression> for item in list <conditional>]\n",
    "'''\n",
    "my_list = [i for i in range(20) if i % 2 == 0]\n",
    "print(my_list)"
   ],
   "outputs": [
    {
     "output_type": "stream",
     "name": "stdout",
     "text": [
      "[0, 2, 4, 6, 8, 10, 12, 14, 16, 18]\n"
     ]
    }
   ],
   "metadata": {}
  },
  {
   "cell_type": "code",
   "execution_count": 1,
   "source": [
    "list_2 = [\"Matheus\", \"Caca\", \"Louis\", \"Pab\", \"Lua\", \"Ronaldo\", \"Ed\"]\n",
    "\n",
    "filter_comprehension = [i for i in list_2 if len(i) <= 4] # return shorts names\n",
    "filter_comprehension"
   ],
   "outputs": [
    {
     "output_type": "execute_result",
     "data": {
      "text/plain": [
       "['Caca', 'Pab', 'Lua', 'Ed']"
      ]
     },
     "metadata": {},
     "execution_count": 1
    }
   ],
   "metadata": {}
  },
  {
   "cell_type": "code",
   "execution_count": 2,
   "source": [
    "list_numbers = [10, -5, 20, -3, -20, -39, -23, 25, 33, 60, 1000, 249, -2904, 3904]\n",
    "\n",
    "# filter positives numbers\n",
    "number_positives = [number for number in list_numbers if number >= 0]\n",
    "number_positives"
   ],
   "outputs": [
    {
     "output_type": "execute_result",
     "data": {
      "text/plain": [
       "[10, 20, 25, 33, 60, 1000, 249, 3904]"
      ]
     },
     "metadata": {},
     "execution_count": 2
    }
   ],
   "metadata": {}
  },
  {
   "cell_type": "code",
   "execution_count": 9,
   "source": [
    "# mais pythonic\n",
    "list_mc = [[\"Matheus\", 22], [\"Lari\", 24], [\"Jheni\", 15], [\"Gabriel\", 10], [\"Carlos\", 18]]\n",
    "\n",
    "maiores_de_idade = [name for (name, idade) in list_mc if idade >= 18] # retorna maiores de idade\n",
    "maiores_de_idade"
   ],
   "outputs": [
    {
     "output_type": "execute_result",
     "data": {
      "text/plain": [
       "['Matheus', 'Lari', 'Carlos']"
      ]
     },
     "metadata": {},
     "execution_count": 9
    }
   ],
   "metadata": {}
  },
  {
   "cell_type": "code",
   "execution_count": 11,
   "source": [
    "# unpacking\n",
    "\n",
    "two_names = [\"Matheus\", \"Caio\"]\n",
    "name1, name2 = two_names\n",
    "print(name1, name2)"
   ],
   "outputs": [
    {
     "output_type": "stream",
     "name": "stdout",
     "text": [
      "Matheus Caio\n"
     ]
    }
   ],
   "metadata": {}
  }
 ],
 "metadata": {
  "orig_nbformat": 4,
  "language_info": {
   "name": "python",
   "version": "3.8.10",
   "mimetype": "text/x-python",
   "codemirror_mode": {
    "name": "ipython",
    "version": 3
   },
   "pygments_lexer": "ipython3",
   "nbconvert_exporter": "python",
   "file_extension": ".py"
  },
  "kernelspec": {
   "name": "python3",
   "display_name": "Python 3.8.10 64-bit ('env': venv)"
  },
  "interpreter": {
   "hash": "eee4ed1fcdf74e4b9089e880e688f2a6164def31e33468aae0f0805303ef9203"
  }
 },
 "nbformat": 4,
 "nbformat_minor": 2
}