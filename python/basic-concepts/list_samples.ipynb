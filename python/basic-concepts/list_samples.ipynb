{
 "cells": [
  {
   "cell_type": "markdown",
   "source": [
    "## Lists in Python"
   ],
   "metadata": {}
  },
  {
   "cell_type": "code",
   "execution_count": 1,
   "source": [
    "# work by indexs\n",
    "# positive +[0, 1, 2, 3, 4] indexs\n",
    "my_list   = [1, 2, 3, 4, 5]\n",
    "# negative -[5, 4, 3, 2, 1] indexs"
   ],
   "outputs": [],
   "metadata": {}
  },
  {
   "cell_type": "code",
   "execution_count": 2,
   "source": [
    "# Slices of my list\n",
    "print('Acessing:', my_list[-1])\n",
    "print('Slice: ', my_list[1:3])\n",
    "print('Duplicate: ', my_list[:])\n",
    "print('From the index to rest: ', my_list[2:])\n",
    "print('From the index to rest inverse: ', my_list[:2])"
   ],
   "outputs": [
    {
     "output_type": "stream",
     "name": "stdout",
     "text": [
      "Acessing: 5\n",
      "Slice:  [2, 3]\n",
      "Duplicate:  [1, 2, 3, 4, 5]\n",
      "From the index to rest:  [3, 4, 5]\n",
      "From the index to rest inverse:  [1, 2]\n"
     ]
    }
   ],
   "metadata": {}
  },
  {
   "cell_type": "markdown",
   "source": [
    "## Operations"
   ],
   "metadata": {}
  },
  {
   "cell_type": "code",
   "execution_count": 3,
   "source": [
    "print('Create list:', [None] * 10) # most useful\n",
    "print('Sum:', [None] + [2, 2])"
   ],
   "outputs": [
    {
     "output_type": "stream",
     "name": "stdout",
     "text": [
      "Create list: [None, None, None, None, None, None, None, None, None, None]\n",
      "Sum: [None, 2, 2]\n"
     ]
    }
   ],
   "metadata": {}
  },
  {
   "cell_type": "code",
   "execution_count": 4,
   "source": [
    "# changing values\n",
    "sub = [1, 2, 3, 4, 5, 6]\n",
    "sub[1:3] = [50, 100] # change values from index 1 until 3\n",
    "sub"
   ],
   "outputs": [
    {
     "output_type": "execute_result",
     "data": {
      "text/plain": [
       "[1, 50, 100, 4, 5, 6]"
      ]
     },
     "metadata": {},
     "execution_count": 4
    }
   ],
   "metadata": {}
  },
  {
   "cell_type": "code",
   "execution_count": 5,
   "source": [
    "# concatenate\n",
    "sub2 = [1, 2, 3, 4]\n",
    "sub2[1:1] = [25, 25]\n",
    "sub2"
   ],
   "outputs": [
    {
     "output_type": "execute_result",
     "data": {
      "text/plain": [
       "[1, 25, 25, 2, 3, 4]"
      ]
     },
     "metadata": {},
     "execution_count": 5
    }
   ],
   "metadata": {}
  }
 ],
 "metadata": {
  "orig_nbformat": 4,
  "language_info": {
   "name": "python",
   "version": "3.8.10",
   "mimetype": "text/x-python",
   "codemirror_mode": {
    "name": "ipython",
    "version": 3
   },
   "pygments_lexer": "ipython3",
   "nbconvert_exporter": "python",
   "file_extension": ".py"
  },
  "kernelspec": {
   "name": "python3",
   "display_name": "Python 3.8.10 64-bit ('env': venv)"
  },
  "interpreter": {
   "hash": "eee4ed1fcdf74e4b9089e880e688f2a6164def31e33468aae0f0805303ef9203"
  }
 },
 "nbformat": 4,
 "nbformat_minor": 2
}