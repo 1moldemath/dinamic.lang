{
 "cells": [
  {
   "cell_type": "markdown",
   "source": [
    "## For loop with range"
   ],
   "metadata": {}
  },
  {
   "cell_type": "code",
   "execution_count": 48,
   "source": [
    "'''\n",
    "for \"variable\" in [Object]\n",
    "function range(start=0, end, step=1)\n",
    "'''\n",
    "text = 'Best version of myself'"
   ],
   "outputs": [],
   "metadata": {}
  },
  {
   "cell_type": "code",
   "execution_count": 49,
   "source": [
    "# using default, len() -> return the size of object\n",
    "for index in range(0, len(text), 1): # the spaces contains indexs\n",
    "    print(f'{text[index]} - ', end=f\"{index}\\n\")"
   ],
   "outputs": [
    {
     "output_type": "stream",
     "name": "stdout",
     "text": [
      "B - 0\n",
      "e - 1\n",
      "s - 2\n",
      "t - 3\n",
      "  - 4\n",
      "v - 5\n",
      "e - 6\n",
      "r - 7\n",
      "s - 8\n",
      "i - 9\n",
      "o - 10\n",
      "n - 11\n",
      "  - 12\n",
      "o - 13\n",
      "f - 14\n",
      "  - 15\n",
      "m - 16\n",
      "y - 17\n",
      "s - 18\n",
      "e - 19\n",
      "l - 20\n",
      "f - 21\n"
     ]
    }
   ],
   "metadata": {}
  },
  {
   "cell_type": "code",
   "execution_count": 50,
   "source": [
    "for index in range(0, len(text), 5): # with steps 5 by 5\n",
    "    print(f'{text[index]} - ', end=f\"{index}\\n\")"
   ],
   "outputs": [
    {
     "output_type": "stream",
     "name": "stdout",
     "text": [
      "B - 0\n",
      "v - 5\n",
      "o - 10\n",
      "  - 15\n",
      "l - 20\n"
     ]
    }
   ],
   "metadata": {}
  }
 ],
 "metadata": {
  "orig_nbformat": 4,
  "language_info": {
   "name": "python",
   "version": "3.8.10",
   "mimetype": "text/x-python",
   "codemirror_mode": {
    "name": "ipython",
    "version": 3
   },
   "pygments_lexer": "ipython3",
   "nbconvert_exporter": "python",
   "file_extension": ".py"
  },
  "kernelspec": {
   "name": "python3",
   "display_name": "Python 3.8.10 64-bit ('env': venv)"
  },
  "interpreter": {
   "hash": "eee4ed1fcdf74e4b9089e880e688f2a6164def31e33468aae0f0805303ef9203"
  }
 },
 "nbformat": 4,
 "nbformat_minor": 2
}