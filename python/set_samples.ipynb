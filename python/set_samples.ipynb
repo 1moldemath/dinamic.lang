{
 "cells": [
  {
   "cell_type": "markdown",
   "source": [
    "## Set - Conjuntos"
   ],
   "metadata": {}
  },
  {
   "cell_type": "code",
   "execution_count": 23,
   "source": [
    "# is the same as dictionary, but we use just the value, not key\n",
    "'''\n",
    "we have operators very useful\n",
    "created equals dict ou using method set()\n",
    "we can't use duplicate elements in set\n",
    "'''\n",
    "my_set = {1, 2, 3, 4, 5, 5}\n",
    "# iterable\n",
    "my_set"
   ],
   "outputs": [
    {
     "output_type": "execute_result",
     "data": {
      "text/plain": [
       "{1, 2, 3, 4, 5}"
      ]
     },
     "metadata": {},
     "execution_count": 23
    }
   ],
   "metadata": {}
  },
  {
   "cell_type": "code",
   "execution_count": 24,
   "source": [
    "# add\n",
    "my_set.add(6)\n",
    "my_set"
   ],
   "outputs": [
    {
     "output_type": "execute_result",
     "data": {
      "text/plain": [
       "{1, 2, 3, 4, 5, 6}"
      ]
     },
     "metadata": {},
     "execution_count": 24
    }
   ],
   "metadata": {}
  },
  {
   "cell_type": "code",
   "execution_count": 25,
   "source": [
    "# remove\n",
    "my_set.discard(6)\n",
    "my_set"
   ],
   "outputs": [
    {
     "output_type": "execute_result",
     "data": {
      "text/plain": [
       "{1, 2, 3, 4, 5}"
      ]
     },
     "metadata": {},
     "execution_count": 25
    }
   ],
   "metadata": {}
  },
  {
   "cell_type": "code",
   "execution_count": 26,
   "source": [
    "# contains O(1)\n",
    "1 in my_set"
   ],
   "outputs": [
    {
     "output_type": "execute_result",
     "data": {
      "text/plain": [
       "True"
      ]
     },
     "metadata": {},
     "execution_count": 26
    }
   ],
   "metadata": {}
  },
  {
   "cell_type": "code",
   "execution_count": 27,
   "source": [
    "# Union ( | ) -> O(len(s1)+len(s2))\n",
    "'''\n",
    "return a set of elements appearing once\n",
    "'''\n",
    "s1 = {1,2,3,4}\n",
    "s2 = {1,2,3}\n",
    "s1 | s2"
   ],
   "outputs": [
    {
     "output_type": "execute_result",
     "data": {
      "text/plain": [
       "{1, 2, 3, 4}"
      ]
     },
     "metadata": {},
     "execution_count": 27
    }
   ],
   "metadata": {}
  },
  {
   "cell_type": "code",
   "execution_count": 28,
   "source": [
    "# Intersection -> operator &\n",
    "'''\n",
    "O(min(len(s3), len(s4)) Average case\n",
    "\n",
    "return a set with equals elements the both sets\n",
    "'''\n",
    "s3 = {1,2,3,4, 5}\n",
    "s4 = {1,2,3}\n",
    "s3 & s4"
   ],
   "outputs": [
    {
     "output_type": "execute_result",
     "data": {
      "text/plain": [
       "{1, 2, 3}"
      ]
     },
     "metadata": {},
     "execution_count": 28
    }
   ],
   "metadata": {}
  },
  {
   "cell_type": "code",
   "execution_count": 29,
   "source": [
    "# Difference ( - ) \n",
    "'''\n",
    "O(len(s3)) Average case\n",
    "return unics elements os de left set\n",
    "'''\n",
    "s3 - s4"
   ],
   "outputs": [
    {
     "output_type": "execute_result",
     "data": {
      "text/plain": [
       "{4, 5}"
      ]
     },
     "metadata": {},
     "execution_count": 29
    }
   ],
   "metadata": {}
  },
  {
   "cell_type": "code",
   "execution_count": 30,
   "source": [
    "# Difference ( ^ )\n",
    "'''\n",
    "O(len(s)) Average case\n",
    "'''\n",
    "s3 ^ s4"
   ],
   "outputs": [
    {
     "output_type": "execute_result",
     "data": {
      "text/plain": [
       "{4, 5}"
      ]
     },
     "metadata": {},
     "execution_count": 30
    }
   ],
   "metadata": {}
  }
 ],
 "metadata": {
  "orig_nbformat": 4,
  "language_info": {
   "name": "python",
   "version": "3.8.10",
   "mimetype": "text/x-python",
   "codemirror_mode": {
    "name": "ipython",
    "version": 3
   },
   "pygments_lexer": "ipython3",
   "nbconvert_exporter": "python",
   "file_extension": ".py"
  },
  "kernelspec": {
   "name": "python3",
   "display_name": "Python 3.8.10 64-bit ('env': venv)"
  },
  "interpreter": {
   "hash": "eee4ed1fcdf74e4b9089e880e688f2a6164def31e33468aae0f0805303ef9203"
  }
 },
 "nbformat": 4,
 "nbformat_minor": 2
}