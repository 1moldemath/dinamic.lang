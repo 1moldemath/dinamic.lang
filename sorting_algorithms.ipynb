{
 "cells": [
  {
   "cell_type": "markdown",
   "source": [
    "# Sorting Algorithms"
   ],
   "metadata": {}
  },
  {
   "cell_type": "code",
   "execution_count": 58,
   "source": [
    "'''\n",
    "Bubble Sort\n",
    "O(n²) ->Worst\n",
    "O(n) -> Best\n",
    "''' \n",
    "def bubble(lista):\n",
    "    tam = len(lista)\n",
    "    for i in range(tam-1, 0, -1):\n",
    "        for j in range(i):\n",
    "            if lista[j] > lista[j + 1]:\n",
    "                lista[j], lista[j + 1] = lista[j + 1], lista[j]\n",
    "\n",
    "my_list = [5,4,3,2,1]\n",
    "bubble(my_list)\n",
    "my_list"
   ],
   "outputs": [
    {
     "output_type": "execute_result",
     "data": {
      "text/plain": [
       "[1, 2, 3, 4, 5]"
      ]
     },
     "metadata": {},
     "execution_count": 58
    }
   ],
   "metadata": {}
  },
  {
   "cell_type": "markdown",
   "source": [
    "![Bulle](https://upload.wikimedia.org/wikipedia/commons/0/06/Bubble-sort.gif)"
   ],
   "metadata": {}
  },
  {
   "cell_type": "code",
   "execution_count": 59,
   "source": [
    "'''\n",
    "Selection Sort\n",
    "O(n²)\n",
    "'''\n",
    "def selection(lista):\n",
    "    tam = len(lista)\n",
    "    for i in range(tam - 1):https://upload.wikimedia.org/wikipedia/commons/c/cc/Merge-sort-example-300px.gif\n",
    "            if lista[j] < lista[menor_elemento]:\n",
    "                menor_elemento = j\n",
    "        lista[i], lista[menor_elemento] = lista[menor_elemento], lista[i]\n",
    "\n",
    "my_list = [5,4,3,2,1]\n",
    "selection(my_list)\n",
    "my_list"
   ],
   "outputs": [
    {
     "output_type": "execute_result",
     "data": {
      "text/plain": [
       "[1, 2, 3, 4, 5]"
      ]
     },
     "metadata": {},
     "execution_count": 59
    }
   ],
   "metadata": {}
  },
  {
   "cell_type": "markdown",
   "source": [
    "![Selection](https://upload.wikimedia.org/wikipedia/commons/9/94/Selection-Sort-Animation.gif)"
   ],
   "metadata": {}
  },
  {
   "cell_type": "code",
   "execution_count": 60,
   "source": [
    "'''\n",
    "insertion Sort\n",
    "O(n²) ->Worst\n",
    "O(n) -> Best\n",
    "''' \n",
    "def insertion_sort(lista):\n",
    "    tam = len(lista)\n",
    "    for i in range(1, tam):\n",
    "        k = i - 1\n",
    "        while k >= 0:\n",
    "            if lista[i] < lista[k]:\n",
    "                lista[i], lista[k] = lista[k], lista[i]\n",
    "                i = k\n",
    "            k -= 1\n",
    "\n",
    "my_list5 = [5,4,3,2,1]\n",
    "insertion_sort(my_list5)\n",
    "my_list5"
   ],
   "outputs": [
    {
     "output_type": "execute_result",
     "data": {
      "text/plain": [
       "[1, 2, 3, 4, 5]"
      ]
     },
     "metadata": {},
     "execution_count": 60
    }
   ],
   "metadata": {}
  },
  {
   "cell_type": "markdown",
   "source": [
    "![insertion](https://upload.wikimedia.org/wikipedia/commons/9/9c/Insertion-sort-example.gif)"
   ],
   "metadata": {}
  },
  {
   "cell_type": "code",
   "execution_count": 61,
   "source": [
    "# Merge sort as sort() method\n",
    "'''\n",
    "Merge Sort -> Divide to conquer\n",
    "O(n log n)\n",
    "'''\n",
    "my_list_20 = [5, 4, 3, 2, 1]\n",
    "my_list_20.sort()\n",
    "my_list_20"
   ],
   "outputs": [
    {
     "output_type": "execute_result",
     "data": {
      "text/plain": [
       "[1, 2, 3, 4, 5]"
      ]
     },
     "metadata": {},
     "execution_count": 61
    }
   ],
   "metadata": {}
  },
  {
   "cell_type": "code",
   "execution_count": 62,
   "source": [
    "class MergeSort:\n",
    "    def merge(self, lado_esquerdo, lado_direito):\n",
    "        if not lado_direito:\n",
    "            return lado_esquerdo\n",
    "\n",
    "        if not lado_esquerdo:\n",
    "            return lado_direito\n",
    "\n",
    "        if lado_esquerdo[0] < lado_direito[0]:\n",
    "            return [lado_esquerdo[0]] + self.merge(lado_esquerdo[1:], lado_direito)\n",
    "        \n",
    "        return [lado_direito[0]] + self.merge(lado_esquerdo, lado_direito[1:])\n",
    "\n",
    "    def merge_sort(self, lista):\n",
    "        if len(lista) <= 1:\n",
    "            return lista\n",
    "        \n",
    "        meio = len(lista) // 2\n",
    "\n",
    "        lado_esquerdo = self.merge_sort(lista[:meio])\n",
    "        lado_direito = self.merge_sort(lista[meio:])\n",
    "\n",
    "        return self.merge(lado_esquerdo, lado_direito)"
   ],
   "outputs": [],
   "metadata": {}
  },
  {
   "cell_type": "markdown",
   "source": [
    "![merge](https://upload.wikimedia.org/wikipedia/commons/c/cc/Merge-sort-example-300px.gif)"
   ],
   "metadata": {}
  }
 ],
 "metadata": {
  "orig_nbformat": 4,
  "language_info": {
   "name": "python",
   "version": "3.8.10",
   "mimetype": "text/x-python",
   "codemirror_mode": {
    "name": "ipython",
    "version": 3
   },
   "pygments_lexer": "ipython3",
   "nbconvert_exporter": "python",
   "file_extension": ".py"
  },
  "kernelspec": {
   "name": "python3",
   "display_name": "Python 3.8.10 64-bit ('env': venv)"
  },
  "interpreter": {
   "hash": "eee4ed1fcdf74e4b9089e880e688f2a6164def31e33468aae0f0805303ef9203"
  }
 },
 "nbformat": 4,
 "nbformat_minor": 2
}