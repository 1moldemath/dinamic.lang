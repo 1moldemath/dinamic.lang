{
 "cells": [
  {
   "cell_type": "markdown",
   "source": [
    "# Alguns modulos uteis c/ Python"
   ],
   "metadata": {}
  },
  {
   "cell_type": "markdown",
   "source": [
    "## datetime - module"
   ],
   "metadata": {}
  },
  {
   "cell_type": "code",
   "execution_count": 23,
   "source": [
    "from datetime import datetime\n",
    "'''\n",
    "Datas e horarios com Python\n",
    "modulo - datetime\n",
    "'''\n",
    "data = datetime(2012, 12, 30)\n",
    "print(data)\n",
    "print('seconds since 1970:', data.timestamp())\n",
    "\n",
    "d1 = datetime.strptime('30/10/1998 11:00:00', '%d/%m/%Y %H:%M:%S')\n",
    "d2 = datetime.strptime('30/10/2021 11:00:00', '%d/%m/%Y %H:%M:%S')\n",
    "\n",
    "diff = d2 - d1\n",
    "diff.days\n"
   ],
   "outputs": [
    {
     "output_type": "stream",
     "name": "stdout",
     "text": [
      "2012-12-30 00:00:00\n",
      "seconds since 1970: 1356832800.0\n"
     ]
    },
    {
     "output_type": "execute_result",
     "data": {
      "text/plain": [
       "8401"
      ]
     },
     "metadata": {},
     "execution_count": 23
    }
   ],
   "metadata": {}
  },
  {
   "cell_type": "markdown",
   "source": [
    "## os - module"
   ],
   "metadata": {}
  },
  {
   "cell_type": "code",
   "execution_count": 50,
   "source": [
    "import os\n",
    "'''\n",
    "Trabalhar com sistema operacional\n",
    "'''\n",
    "\n",
    "def procurando_arquivo(caminho_relativo, nome_arq):\n",
    "    caminho_procura = caminho_relativo\n",
    "    termo_procura = nome_arq\n",
    "\n",
    "    for raiz, diretorios, arquivos in os.walk(caminho_procura):\n",
    "        # mapeia todos os diretorios e arquivos do caminho que eu definir\n",
    "        # retorna uma lista\n",
    "        for arquivo in arquivos:\n",
    "            if termo_procura in arquivo:\n",
    "                caminho_completo = os.path.join(raiz, arquivo) # juntando a raiz + o arquivo e formando o caminho completo do arquivo\n",
    "                nome_arquivo, extensao = os.path.splitext(arquivo) # pegar o nome e a extensao dos arquivos separados\n",
    "                tamanho_arquivo = os.path.getsize(caminho_completo) # tamanho do arquivo em bytes\n",
    "                print('### Arquivo Localizado ###')\n",
    "                print('Caminho Completo:',caminho_completo)\n",
    "                print('Nome do Arquivo:',nome_arquivo)\n",
    "                print('Extensão:',extensao)\n",
    "                print('Tamanho do arquivo em bytes:',tamanho_arquivo)\n",
    "\n",
    "procurando_arquivo('/home/serafim/Downloads', 'comandos')\n"
   ],
   "outputs": [
    {
     "output_type": "stream",
     "name": "stdout",
     "text": [
      "### Arquivo Localizado ###\n",
      "Caminho Completo: /home/serafim/Downloads/comandos.txt\n",
      "Nome do Arquivo: comandos\n",
      "Extensão: .txt\n",
      "Tamanho do arquivo em bytes: 153\n"
     ]
    }
   ],
   "metadata": {}
  },
  {
   "cell_type": "markdown",
   "source": [
    "## JSON - JavaScript Object Notation"
   ],
   "metadata": {}
  },
  {
   "cell_type": "code",
   "execution_count": 76,
   "source": [
    "import json\n",
    "'''\n",
    "Transferencia de dados em notação de objetos\n",
    "'''\n",
    "\n",
    "# Formato chave : valor\n",
    "test_dados = {\n",
    "    \"1\": {\n",
    "        \"nome\": \"Matheus\",\n",
    "        \"sobrenome\": \"Serafim\",\n",
    "        \"idade\": 22,\n",
    "        \"altura\": 1.8,\n",
    "        \"peso\": 70.53\n",
    "    },\n",
    "    \"2\": {\n",
    "        \"nome\": \"Maria\",\n",
    "        \"sobrenome\": \"Oliveira\",\n",
    "        \"idade\": 52,\n",
    "        \"altura\": 1.67,\n",
    "        \"peso\": 57\n",
    "    },\n",
    "    \"3\": {\n",
    "        \"nome\": \"Pedro\",\n",
    "        \"sobrenome\": \"Faria\",\n",
    "        \"idade\": 32,\n",
    "        \"altura\": 1.95,\n",
    "        \"peso\": 113\n",
    "    }\n",
    "}\n",
    "\n",
    "\n",
    "# convert python to json\n",
    "print(type(test_dados))\n",
    "json_convert = json.dumps(test_dados, indent=4)\n",
    "print(type(json_convert))\n",
    "\n",
    "print('----------------')\n",
    "\n",
    "# convert json to python\n",
    "convert_python = json.loads(json_convert)\n",
    "print(type(json_convert))\n",
    "print(type(convert_python))\n",
    "\n",
    "'''\n",
    "Para converter arquivos, usamos os metodos dump e load\n",
    "abrindo o arquivo com with open('nome do arquivo', 'ação')\n",
    "'''\n",
    "print()\n"
   ],
   "outputs": [
    {
     "output_type": "stream",
     "name": "stdout",
     "text": [
      "<class 'dict'>\n",
      "<class 'str'>\n",
      "----------------\n",
      "<class 'str'>\n",
      "<class 'dict'>\n",
      "\n"
     ]
    }
   ],
   "metadata": {}
  },
  {
   "cell_type": "markdown",
   "source": [
    "## CSV - Comma Separated Values"
   ],
   "metadata": {}
  },
  {
   "cell_type": "code",
   "execution_count": 79,
   "source": [
    "'''\n",
    "Trabalhar com dados, ex.. excel, google sheets\n",
    "'''\n",
    "import csv\n",
    "\n",
    "with open('/home/serafim/Documentos/test.csv', 'r') as arquivo:\n",
    "    dados = csv.reader(arquivo) # le os dados que estão no csv\n",
    "    \n",
    "    for dado in dados:\n",
    "        print(dado)"
   ],
   "outputs": [
    {
     "output_type": "stream",
     "name": "stdout",
     "text": [
      "['matheus', '55389527']\n",
      "['caio', '25382597']\n",
      "['ola', '255342']\n",
      "['asabopp', ' 394823']\n",
      "['mathias', ' 28341']\n",
      "['test', ' 235902837']\n"
     ]
    }
   ],
   "metadata": {}
  },
  {
   "cell_type": "markdown",
   "source": [
    "## Web Scraping"
   ],
   "metadata": {}
  },
  {
   "cell_type": "code",
   "execution_count": 18,
   "source": [
    "'''\n",
    "Coletar dados sem usar API,\n",
    "Realizando scrapy no stackoverflow\n",
    "'''\n",
    "\n",
    "# Coletando ultimas perguntas do stackoverflow sobre python\n",
    "\n",
    "import requests\n",
    "from bs4 import BeautifulSoup\n",
    "\n",
    "url = 'https://pt.stackoverflow.com/questions/tagged/python'\n",
    "response = requests.get(url) # fazendo requisição na url\n",
    "html = BeautifulSoup(response.text, 'html.parser') # recebe e analisa o html recebido\n",
    "\n",
    "def scrapy():\n",
    "    contador = 0\n",
    "    for pergunta in html.select('.question-hyperlink'): # selecionando as perguntas pela class html\n",
    "        titulo = pergunta.get_text() # pegando o texto da tag html que tem o titulo das ultimas 10 perguntas\n",
    "        print('Help:',titulo, sep='\\t')\n",
    "\n",
    "        if contador == 10:\n",
    "            break\n",
    "\n",
    "        contador += 1\n",
    "\n",
    "scrapy()\n"
   ],
   "outputs": [
    {
     "output_type": "stream",
     "name": "stdout",
     "text": [
      "Help:\tPython ,Ajuda com import xlrd SO Linux\n",
      "Help:\tComo adicionar valores num dicionário usando input?\n",
      "Help:\tQual a melhor biblioteca do python para musicas? [fechada]\n",
      "Help:\tSockets com Python\n",
      "Help:\tExibir PDF em uma página web [fechada]\n",
      "Help:\tAlguém pode me ajudar por favor python [fechada]\n",
      "Help:\terro ao converter uma imagem no python [fechada]\n",
      "Help:\tComo inserir label dentro da aba no widget notebook do tkinter?\n",
      "Help:\teu to a 2 horas tentando encontrar o erro [fechada]\n",
      "Help:\tDúvida em Python [fechada]\n",
      "Help:\tErro SSL (Modulo requests Python)\n"
     ]
    }
   ],
   "metadata": {}
  },
  {
   "cell_type": "markdown",
   "source": [
    "## Threads"
   ],
   "metadata": {}
  },
  {
   "cell_type": "code",
   "execution_count": 35,
   "source": [
    "'''\n",
    "linhas de execução concorrentes em um mesmo processo, no caso o meu programa python\n",
    "Elas são concorrentes no sentido de que executam simultaneamente, mas cada um com a sua própria linha de execução\n",
    "'''\n",
    "from time import sleep\n",
    "from threading import Thread\n",
    "\n",
    "class MeuThread(Thread):\n",
    "    def __init__(self, texto, tempo):\n",
    "        self.texto = texto\n",
    "        self.tempo = tempo\n",
    "        super().__init__()\n",
    "\n",
    "    def run(self):\n",
    "        sleep(self.tempo)\n",
    "        print(self.texto)\n",
    "\n",
    "t1 = MeuThread('Threads Secundaria rodou', 5)\n",
    "t1.start()\n",
    "\n",
    "t2 = MeuThread('Threads Terciaria rodou', 8)\n",
    "t2.start()\n",
    "'''\n",
    "Meu texto foi executado independente da thread principal rodando\n",
    "'''\n",
    "for i in range(10):\n",
    "    print(i)\n",
    "    sleep(1)\n"
   ],
   "outputs": [
    {
     "output_type": "stream",
     "name": "stdout",
     "text": [
      "0\n",
      "1\n",
      "2\n",
      "3\n",
      "4\n",
      "Threads Secundaria rodou\n",
      "5\n",
      "6\n",
      "7\n",
      "Threads Terciaria rodou\n",
      "8\n",
      "9\n"
     ]
    }
   ],
   "metadata": {}
  },
  {
   "cell_type": "markdown",
   "source": [
    "## Google Sheets - Planilhas com openpyxl"
   ],
   "metadata": {}
  },
  {
   "cell_type": "code",
   "execution_count": 41,
   "source": [
    "'''\n",
    "Trabalhando com planilhas excel\n",
    "'''\n",
    "import openpyxl\n",
    "# temos diversos metodos para manipular planilhas com esse modulo\n",
    "# ex..\n",
    "\n",
    "planilha = openpyxl.load_workbook('planilha_a_ser_carregada.xlsx')\n",
    "nome_planilhas = planilha.sheetnames # quantidade de abas de planilhas e seus nomes, retorna uma lista\n",
    "planilha1 = nome_planilhas['Pagina1']\n",
    "\n",
    "planilha1['b4'].value # valor da celula b4\n",
    "planilha1['b'].value # retorna valores como tuplas da coluna b\n",
    "print('')\n"
   ],
   "outputs": [
    {
     "output_type": "stream",
     "name": "stdout",
     "text": [
      "\n"
     ]
    }
   ],
   "metadata": {}
  }
 ],
 "metadata": {
  "orig_nbformat": 4,
  "language_info": {
   "name": "python",
   "version": "3.8.10",
   "mimetype": "text/x-python",
   "codemirror_mode": {
    "name": "ipython",
    "version": 3
   },
   "pygments_lexer": "ipython3",
   "nbconvert_exporter": "python",
   "file_extension": ".py"
  },
  "kernelspec": {
   "name": "python3",
   "display_name": "Python 3.8.10 64-bit ('env': venv)"
  },
  "interpreter": {
   "hash": "eee4ed1fcdf74e4b9089e880e688f2a6164def31e33468aae0f0805303ef9203"
  }
 },
 "nbformat": 4,
 "nbformat_minor": 2
}